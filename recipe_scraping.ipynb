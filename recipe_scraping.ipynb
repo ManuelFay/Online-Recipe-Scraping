{
 "cells": [
  {
   "cell_type": "code",
   "execution_count": 80,
   "metadata": {},
   "outputs": [],
   "source": [
    "import requests, re\n",
    "from bs4 import BeautifulSoup"
   ]
  },
  {
   "cell_type": "code",
   "execution_count": 123,
   "metadata": {},
   "outputs": [],
   "source": [
    "def url_gen(ref,servings=1, metric = 'true', typeSearch = 'ingredients'):\n",
    "    if typeSearch == 'none':\n",
    "        tail = ''\n",
    "    else :\n",
    "        if typeSearch == 'nutrition':\n",
    "            tail = 'fullrecipenutrition/'\n",
    "        else:  \n",
    "            tail = 'print/?recipeType=Recipe&servings={}&isMetric={}'.format(servings,metric)\n",
    "\n",
    "    return ('https://www.allrecipes.com/recipe/' + ref+tail)"
   ]
  },
  {
   "cell_type": "code",
   "execution_count": 124,
   "metadata": {},
   "outputs": [],
   "source": [
    "def get_ingredients(ref): \n",
    "    \n",
    "    url = url_gen(ref)\n",
    "    r=requests.get(url)\n",
    "    \n",
    "    ingredients = []\n",
    "    soup = BeautifulSoup(r.text.encode('utf-8'),'lxml')    \n",
    "    col1 = soup.find('h2').next_sibling.next_sibling\n",
    "    col2 = col1.next_sibling.next_sibling\n",
    "\n",
    "    for i in col1.findAll('li'):\n",
    "        last=str(i.contents).rfind('r')\n",
    "        first=str(i.contents).find('n')\n",
    "        ingredients.append((str(i.contents)[(first+1):(last-1)].lstrip()))\n",
    "    for i in col2.findAll('li'):\n",
    "        last=str(i.contents).rfind('r')\n",
    "        first=str(i.contents).find('n')\n",
    "        ingredients.append((str(i.contents)[(first+1):(last-1)].lstrip()))\n",
    "    return ingredients"
   ]
  },
  {
   "cell_type": "code",
   "execution_count": 125,
   "metadata": {},
   "outputs": [],
   "source": [
    "def get_popularity(ref):    \n",
    "    url = url_gen(ref,typeSearch = 'none')\n",
    "    r=requests.get(url)\n",
    "    soup = BeautifulSoup(r.text.encode('utf-8'),'lxml')    \n",
    "    step1 =str(soup.findAll('div', class_=\"total-made-it\"))\n",
    "\n",
    "    begin = '\"made-it-count\"></span><span>'\n",
    "    end = '\\xa0made it'\n",
    "    return step1[step1.find(begin)+len(begin):step1.find(end)]     #3k --> 3000"
   ]
  },
  {
   "cell_type": "code",
   "execution_count": 126,
   "metadata": {},
   "outputs": [],
   "source": [
    "def get_nutrition(ref):\n",
    "#Returns a dictionnary with nutritional values\n",
    "\n",
    "    url = url_gen(ref, typeSearch = 'nutrition')\n",
    "    r=requests.get(url)\n",
    "    soup = BeautifulSoup(r.text.encode('utf-8'),'lxml') \n",
    "    info = soup.findAll('div', class_='nutrition-row')\n",
    "    general = {}\n",
    "    general['Title']  = str(soup.find('h2').contents[0])\n",
    "    general['Reference'] = ref\n",
    "    general['Region'] = 'Unknown'\n",
    "    nutrition = {}\n",
    "    getCal = str(soup.find('div', class_=\"nutrition-top light-underline\"))\n",
    "    key = 'Calories:</span> '\n",
    "    nutrition['Calories'] = int(getCal[getCal.find(key) + len(key):getCal.rfind('<br/>')])\n",
    "    \n",
    "    for i in info:\n",
    "        a=i.find(class_='nutrient-name')\n",
    "        b = re.findall('>(.*?):', str(a))[0]\n",
    "        c = re.findall('value\">(.*?)<', str(a))[0]\n",
    "       # print(str(b) + ' : ' + str(c))\n",
    "        nutrition[b] = c\n",
    "    return general, nutrition"
   ]
  },
  {
   "cell_type": "code",
   "execution_count": 127,
   "metadata": {},
   "outputs": [],
   "source": [
    "class Recipe:\n",
    "    def __init__(self, name):\n",
    "        self.name = name\n",
    "        self.ingredients = get_ingredients(name)\n",
    "        self.general, self.nutrition = get_nutrition(name)\n",
    "        self.general['Popularity'] = get_popularity(name)\n",
    "    def display(self):\n",
    "        print('\\n ----------------- \\n')\n",
    "        print(self.general)\n",
    "        print('\\n')\n",
    "        print(self.ingredients)\n",
    "        print('\\n')\n",
    "        print(self.nutrition)\n",
    "    def toDict(self):\n",
    "        dictio = {}\n",
    "        dictio['General'] = self.general\n",
    "        dictio['Nutrition'] = self.nutrition\n",
    "        dictio['Ingredients'] = self.ingredients\n",
    "        return dictio"
   ]
  },
  {
   "cell_type": "code",
   "execution_count": 128,
   "metadata": {},
   "outputs": [
    {
     "data": {
      "text/plain": [
       "{'General': {'Title': 'Chicken Tikka Masala',\n",
       "  'Reference': '45736/chicken-tikka-masala/',\n",
       "  'Region': 'Unknown',\n",
       "  'Popularity': '3k'},\n",
       " 'Nutrition': {'Calories': 404,\n",
       "  'Total Fat': '28.9g',\n",
       "  'Saturated Fat': '17.0g',\n",
       "  'Cholesterol': '143mg',\n",
       "  'Sodium': '1592mg',\n",
       "  'Potassium': '660mg',\n",
       "  'Total Carbohydrates': '13.3g',\n",
       "  'Dietary Fiber': '2.5g',\n",
       "  'Protein': '24.6g',\n",
       "  'Sugars': '7g',\n",
       "  'Vitamin A': '2432IU',\n",
       "  'Vitamin C': '11mg',\n",
       "  'Calcium': '206mg',\n",
       "  'Iron': '3mg',\n",
       "  'Thiamin': '0mg',\n",
       "  'Niacin': '13mg',\n",
       "  'Vitamin B6': '1mg',\n",
       "  'Magnesium': '57mg',\n",
       "  'Folate': '24mcg'},\n",
       " 'Ingredients': ['60 ml yogurt',\n",
       "  '4 ml lemon juice',\n",
       "  '1 g fresh ground cumin',\n",
       "  '0.6 g ground cinnamon',\n",
       "  '0.9 g cayenne pepper',\n",
       "  '1 g freshly ground black pepper',\n",
       "  '1 g minced fresh ginger',\n",
       "  '2 g salt, or to taste',\n",
       "  '3/4 boneless skinless chicken breasts, cut into bite-size pieces',\n",
       "  '1 long skewers',\n",
       "  '4 g butter',\n",
       "  '1/4 clove garlic, minced',\n",
       "  '1/4 jalapeno pepper, finely chopped',\n",
       "  '1 g ground cumin',\n",
       "  '1 g paprika',\n",
       "  '2 g salt, or to taste',\n",
       "  '1/4 (8 ounce) can tomato sauce',\n",
       "  '60 ml heavy cream',\n",
       "  '3 g chopped fresh cilantro']}"
      ]
     },
     "execution_count": 128,
     "metadata": {},
     "output_type": "execute_result"
    }
   ],
   "source": [
    "ref = '246179/black-chana-with-potato/'\n",
    "ref = '45736/chicken-tikka-masala/'\n",
    "#get_ingredients(ref)\n",
    "a = Recipe(ref)\n",
    "a.toDict()"
   ]
  },
  {
   "cell_type": "code",
   "execution_count": 129,
   "metadata": {},
   "outputs": [],
   "source": [
    "def get_recipes(themeUrl, number = 20):\n",
    "    \n",
    "    r=requests.get(themeUrl) #add page 1,2,etc\n",
    "    \n",
    "    baseUrl = 'https://www.allrecipes.com/recipe/'\n",
    "    soup = BeautifulSoup(r.text.encode('utf-8'),'lxml') \n",
    "    results = soup.findAll('h3', class_='fixed-recipe-card__h3')\n",
    "    \n",
    "    theme = []\n",
    "    iteration = 0\n",
    "    for i in results :\n",
    "        \n",
    "        if iteration  == number:\n",
    "            break\n",
    "            \n",
    "        iteration = iteration + 1\n",
    "        \n",
    "        link = str(i.find('a').get('href'))\n",
    "        first=link.find(baseUrl)\n",
    "        theme.append(link[(first+len(baseUrl)):])\n",
    "        \n",
    "    return theme"
   ]
  },
  {
   "cell_type": "code",
   "execution_count": 130,
   "metadata": {},
   "outputs": [],
   "source": [
    "def getThemeRecipes(themeName, number = 20):\n",
    "    tail = ''\n",
    "    for i in range(1,len(themeName)-1):\n",
    "        tail = tail + themeName[i]+'/'\n",
    "    themeUrl = 'https://www.allrecipes.com/recipes/'+themeName[0]+'/world-cuisine/'+tail\n",
    "    themeLinks = get_recipes(themeUrl, number = number)\n",
    "    themeRecipes = []\n",
    "    themeDico = {}\n",
    "\n",
    "    from tqdm import tqdm_notebook as tqdm\n",
    "\n",
    "    for i in tqdm(range(len(themeLinks))):\n",
    "        recipe = themeLinks[i]\n",
    "    #for recipe in themeLinks:\n",
    "        try:\n",
    "            current = Recipe(recipe)\n",
    "            themeRecipes.append(current)\n",
    "            themeDico[current.general['Reference']] = current.toDict()\n",
    "            themeDico[current.general['Region']]    = themeName[len(themeName)-1]\n",
    "        except AttributeError:\n",
    "            print('Error')\n",
    "            continue\n",
    "    return themeDico"
   ]
  },
  {
   "cell_type": "code",
   "execution_count": 131,
   "metadata": {},
   "outputs": [
    {
     "data": {
      "application/vnd.jupyter.widget-view+json": {
       "model_id": "6189e3a070f74da9aca79b4b670ed5cc",
       "version_major": 2,
       "version_minor": 0
      },
      "text/plain": [
       "HBox(children=(IntProgress(value=0, max=20), HTML(value='')))"
      ]
     },
     "metadata": {},
     "output_type": "display_data"
    },
    {
     "name": "stdout",
     "output_type": "stream",
     "text": [
      "\n"
     ]
    }
   ],
   "source": [
    "themeIndian = ['233','asian','indian']\n",
    "themeMexican = ['728','latin-american','mexican']\n",
    "\n",
    "themeDico = getThemeRecipes(themeMexican)"
   ]
  },
  {
   "cell_type": "code",
   "execution_count": 132,
   "metadata": {},
   "outputs": [],
   "source": [
    "import json\n",
    "\n",
    "with open(themeName[len(themeName)-1]+'.json', 'w') as f:\n",
    "    json.dump(themeDico, f)"
   ]
  },
  {
   "cell_type": "code",
   "execution_count": null,
   "metadata": {},
   "outputs": [],
   "source": []
  }
 ],
 "metadata": {
  "kernelspec": {
   "display_name": "Python [conda env:anaconda3]",
   "language": "python",
   "name": "conda-env-anaconda3-py"
  },
  "language_info": {
   "codemirror_mode": {
    "name": "ipython",
    "version": 3
   },
   "file_extension": ".py",
   "mimetype": "text/x-python",
   "name": "python",
   "nbconvert_exporter": "python",
   "pygments_lexer": "ipython3",
   "version": "3.6.5"
  }
 },
 "nbformat": 4,
 "nbformat_minor": 2
}
