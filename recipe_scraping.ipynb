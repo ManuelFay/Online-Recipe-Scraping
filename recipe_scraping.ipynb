{
 "cells": [
  {
   "cell_type": "code",
   "execution_count": 1,
   "metadata": {},
   "outputs": [],
   "source": [
    "import requests, re\n",
    "from bs4 import BeautifulSoup"
   ]
  },
  {
   "cell_type": "code",
   "execution_count": 2,
   "metadata": {},
   "outputs": [],
   "source": [
    "def url_gen(ref,servings=1, metric = 'true' ):\n",
    "    tail= 'print/?recipeType=Recipe&servings={}&isMetric={}'.format(servings,metric)\n",
    "    url = 'https://www.allrecipes.com/recipe/' + ref+tail\n",
    "    return url"
   ]
  },
  {
   "cell_type": "code",
   "execution_count": 3,
   "metadata": {},
   "outputs": [],
   "source": [
    "def get_ingredients(ref): \n",
    "    \n",
    "    url = url_gen(ref)\n",
    "    r=requests.get(url)\n",
    "    \n",
    "    ingredients = []\n",
    "    soup = BeautifulSoup(r.text.encode('utf-8'),'lxml')    \n",
    "    col1 = soup.find('h2').next_sibling.next_sibling\n",
    "    col2 = col1.next_sibling.next_sibling\n",
    "\n",
    "    for i in col1.findAll('li'):\n",
    "        last=str(i.contents).rfind('r')\n",
    "        first=str(i.contents).find('n')\n",
    "        ingredients.append((str(i.contents)[(first+1):(last-1)].lstrip()))\n",
    "    for i in col2.findAll('li'):\n",
    "        last=str(i.contents).rfind('r')\n",
    "        first=str(i.contents).find('n')\n",
    "        ingredients.append((str(i.contents)[(first+1):(last-1)].lstrip()))\n",
    "    return ingredients"
   ]
  },
  {
   "cell_type": "code",
   "execution_count": 56,
   "metadata": {},
   "outputs": [],
   "source": [
    "def get_nutrition(ref):\n",
    "#Returns a dictionnary with nutritional values\n",
    "\n",
    "    url = 'https://www.allrecipes.com/recipe/' + ref + 'fullrecipenutrition/'\n",
    "    r=requests.get(url)\n",
    "    soup = BeautifulSoup(r.text.encode('utf-8'),'lxml') \n",
    "    info = soup.findAll('div', class_='nutrition-row')\n",
    "    title = soup.find('h2').contents[0]\n",
    "    nutrition = {}\n",
    "    for i in info:\n",
    "        a=i.find(class_='nutrient-name')\n",
    "        b = re.findall('>(.*?):', str(a))[0]\n",
    "        c = re.findall('value\">(.*?)<', str(a))[0]\n",
    "       # print(str(b) + ' : ' + str(c))\n",
    "        nutrition[b] = c\n",
    "    return title, nutrition"
   ]
  },
  {
   "cell_type": "code",
   "execution_count": 57,
   "metadata": {},
   "outputs": [],
   "source": [
    "class Recipe:\n",
    "    def __init__(self, name):\n",
    "        self.name = name\n",
    "        self.ingredients = get_ingredients(name)\n",
    "        self.title, self.nutrition = get_nutrition(name)\n",
    "    def display(self):\n",
    "        print('\\n ----------------- \\n')\n",
    "        print(self.title)\n",
    "        print('\\n')\n",
    "        print(self.ingredients)\n",
    "        print('\\n')\n",
    "        print(self.nutrition)"
   ]
  },
  {
   "cell_type": "code",
   "execution_count": 58,
   "metadata": {},
   "outputs": [
    {
     "name": "stdout",
     "output_type": "stream",
     "text": [
      "\n",
      " ----------------- \n",
      "\n",
      "Chicken Tikka Masala\n",
      "\n",
      "\n",
      "['60 ml yogurt', '4 ml lemon juice', '1 g fresh ground cumin', '0.6 g ground cinnamon', '0.9 g cayenne pepper', '1 g freshly ground black pepper', '1 g minced fresh ginger', '2 g salt, or to taste', '3/4 boneless skinless chicken breasts, cut into bite-size pieces', '1 long skewers', '4 g butter', '1/4 clove garlic, minced', '1/4 jalapeno pepper, finely chopped', '1 g ground cumin', '1 g paprika', '2 g salt, or to taste', '1/4 (8 ounce) can tomato sauce', '60 ml heavy cream', '3 g chopped fresh cilantro']\n",
      "\n",
      "\n",
      "{'Total Fat': '28.9g', 'Saturated Fat': '17.0g', 'Cholesterol': '143mg', 'Sodium': '1592mg', 'Potassium': '660mg', 'Total Carbohydrates': '13.3g', 'Dietary Fiber': '2.5g', 'Protein': '24.6g', 'Sugars': '7g', 'Vitamin A': '2432IU', 'Vitamin C': '11mg', 'Calcium': '206mg', 'Iron': '3mg', 'Thiamin': '0mg', 'Niacin': '13mg', 'Vitamin B6': '1mg', 'Magnesium': '57mg', 'Folate': '24mcg'}\n"
     ]
    }
   ],
   "source": [
    "ref = '246179/black-chana-with-potato/'\n",
    "ref = '45736/chicken-tikka-masala/'\n",
    "#get_ingredients(ref)\n",
    "a = Recipe(ref)\n",
    "a.display()"
   ]
  },
  {
   "cell_type": "code",
   "execution_count": 36,
   "metadata": {},
   "outputs": [],
   "source": [
    "def get_recipes(themeUrl, number = 20):\n",
    "    \n",
    "    r=requests.get(themeUrl) #add page 1,2,etc\n",
    "    \n",
    "    baseUrl = 'https://www.allrecipes.com/recipe/'\n",
    "    soup = BeautifulSoup(r.text.encode('utf-8'),'lxml') \n",
    "    results = soup.findAll('h3', class_='fixed-recipe-card__h3')\n",
    "    \n",
    "    theme = []\n",
    "    iteration = 0\n",
    "    for i in results :\n",
    "        \n",
    "        if iteration  > number:\n",
    "            break\n",
    "            \n",
    "        iteration = iteration + 1\n",
    "        \n",
    "        link = str(i.find('a').get('href'))\n",
    "        first=link.find(baseUrl)\n",
    "        theme.append(link[(first+len(baseUrl)):])\n",
    "        \n",
    "    return theme"
   ]
  },
  {
   "cell_type": "code",
   "execution_count": 61,
   "metadata": {},
   "outputs": [],
   "source": [
    "themeUrl = 'https://www.allrecipes.com/recipes/233/world-cuisine/asian/indian/' \n",
    "themeUrl = 'https://www.allrecipes.com/recipes/728/world-cuisine/latin-american/mexican/'\n",
    "themeLinks = get_recipes(themeUrl, number = 5)\n",
    "themeRecipes = []\n",
    "\n",
    "for recipe in themeLinks:\n",
    "    themeRecipes.append(Recipe(recipe))"
   ]
  },
  {
   "cell_type": "code",
   "execution_count": 62,
   "metadata": {},
   "outputs": [
    {
     "name": "stdout",
     "output_type": "stream",
     "text": [
      "\n",
      " ----------------- \n",
      "\n",
      "Mexican Rice II\n",
      "\n",
      "\n",
      "['10 ml vegetable oil', '45 g uncooked long-grain rice', '1 g garlic salt', '0.3 g ground cumin', '10 g chopped onion', '30 ml tomato sauce', '120 ml chicken broth']\n",
      "\n",
      "\n",
      "{'Total Fat': '11g', 'Saturated Fat': '2.0g', 'Cholesterol': '2mg', 'Sodium': '1096mg', 'Potassium': '173mg', 'Total Carbohydrates': '42.4g', 'Dietary Fiber': '1.2g', 'Protein': '4.8g', 'Sugars': '2g', 'Vitamin A': '110IU', 'Vitamin C': '3mg', 'Calcium': '23mg', 'Iron': '2mg', 'Thiamin': '0mg', 'Niacin': '3mg', 'Vitamin B6': '0mg', 'Magnesium': '24mg', 'Folate': '86mcg'}\n",
      "\n",
      " ----------------- \n",
      "\n",
      "Spicy Chicken and Hominy Mexican Soup\n",
      "\n",
      "\n",
      "['4 ml olive oil', '1/2 chicken breasts, cut into 1-inch pieces', '1/4 small onion, chopped', '1/2 chipotle peppers in adobo sauce, seeded and diced', '1/2 clove garlic, minced', '1/4 pinch garlic salt, or to taste', '1/4 (32 ounce) can enchilada sauce', '1/2 (16 ounce) can hominy', '1/4 (15 ounce) can diced tomatoes', '1/4 (15 ounce) can black beans, rinsed and drained', '90 ml water', '4 g chili powder', '2 g ground cumin', '0.4 g dried oregano', '1/4 pinch cayenne pepper', 'salt and ground black pepper to taste', '3 g chopped cilantro']\n",
      "\n",
      "\n",
      "{'Total Fat': '36.4g', 'Saturated Fat': '16.0g', 'Cholesterol': '112mg', 'Sodium': '1309mg', 'Potassium': '1013mg', 'Total Carbohydrates': '68.2g', 'Dietary Fiber': '17.9g', 'Protein': '25.2g', 'Sugars': '8g', 'Vitamin A': '3908IU', 'Vitamin C': '35mg', 'Calcium': '193mg', 'Iron': '9mg', 'Thiamin': '0mg', 'Niacin': '9mg', 'Vitamin B6': '1mg', 'Magnesium': '118mg', 'Folate': '94mcg'}\n",
      "\n",
      " ----------------- \n",
      "\n",
      "Carnitas - Pressure Cooker\n",
      "\n",
      "\n",
      "['1/8 (6 pound) pork butt roast', '1 g salt', '0.2 g dried oregano', '0.2 g ground cumin', '0.1 g ground black pepper', '0.1 g chile powder', '0 g paprika', '1 ml olive oil, or more to taste', '10 ml orange juice', '1/8 onion, coarsely chopped', '1/8 clove garlic, diced, or more to taste']\n",
      "\n",
      "\n",
      "{'Total Fat': '10.6g', 'Saturated Fat': '4.0g', 'Cholesterol': '43mg', 'Sodium': '471mg', 'Potassium': '211mg', 'Total Carbohydrates': '2.4g', 'Dietary Fiber': '0.4g', 'Protein': '11.8g', 'Sugars': '1g', 'Vitamin A': '81IU', 'Vitamin C': '7mg', 'Calcium': '24mg', 'Iron': '1mg', 'Thiamin': '0mg', 'Niacin': '4mg', 'Vitamin B6': '0mg', 'Magnesium': '13mg', 'Folate': '8mcg'}\n",
      "\n",
      " ----------------- \n",
      "\n",
      "Agua Fresca de Pepino (Cucumber Limeade)\n",
      "\n",
      "\n",
      "['200 ml water, or to taste', '1/2 cucumbers, peeled and chopped', '20 ml freshly squeezed lime juice', '1 g granular sucralose sweetener (such as Splenda(R)), or to taste']\n",
      "\n",
      "\n",
      "{'Total Fat': '0g', 'Saturated Fat': '0.0g', 'Cholesterol': '0mg', 'Sodium': '6mg', 'Potassium': '26mg', 'Total Carbohydrates': '1.7g', 'Dietary Fiber': '0.1g', 'Protein': '0.1g', 'Sugars': '0g', 'Vitamin A': '10IU', 'Vitamin C': '6mg', 'Calcium': '9mg', 'Iron': '0mg', 'Thiamin': '0mg', 'Niacin': '0mg', 'Vitamin B6': '0mg', 'Magnesium': '4mg', 'Folate': '2mcg'}\n",
      "\n",
      " ----------------- \n",
      "\n",
      "Drowned Beef Sandwich with Chipotle Sauce (Torta Ahogada)\n",
      "\n",
      "\n",
      "['85 g chipotle cooking sauce (such a Knorr(R))', '1/4 (14 ounce) can reduced-sodium beef broth', '3 g chopped fresh cilantro (optional)', '8 ml vegetable oil', '1/4 onion, thinly sliced', '3/4 clove garlic, minced', '115 g thinly sliced deli roast beef', '1 bolillo rolls, halved and lightly toasted', '1 sprig fresh cilantro, or to taste (optional)']\n",
      "\n",
      "\n",
      "{'Total Fat': '14.8g', 'Saturated Fat': '3.0g', 'Cholesterol': '56mg', 'Sodium': '2009mg', 'Potassium': '632mg', 'Total Carbohydrates': '71.1g', 'Dietary Fiber': '2.8g', 'Protein': '37.1g', 'Sugars': '6g', 'Vitamin A': '378IU', 'Vitamin C': '4mg', 'Calcium': '39mg', 'Iron': '6mg', 'Thiamin': '0mg', 'Niacin': '8mg', 'Vitamin B6': '0mg', 'Magnesium': '51mg', 'Folate': '52mcg'}\n",
      "\n",
      " ----------------- \n",
      "\n",
      "Secret Salsa\n",
      "\n",
      "\n",
      "['1 g chopped fresh parsley', '1 g chopped fresh cilantro', '1/8 lime, juiced', '1 g salt', '0.1 g garlic powder', '0.1 g chili powder', '0.1 g ground black pepper', '0.2 ml tequila', '1/2 large tomatoes, chopped', '1/8 small onion, diced', '1/8 green bell pepper, diced']\n",
      "\n",
      "\n",
      "{'Total Fat': '0.2g', 'Saturated Fat': '0.0g', 'Cholesterol': '0mg', 'Sodium': '395mg', 'Potassium': '262mg', 'Total Carbohydrates': '5.2g', 'Dietary Fiber': '1.5g', 'Protein': '1.1g', 'Sugars': '3g', 'Vitamin A': '999IU', 'Vitamin C': '23mg', 'Calcium': '15mg', 'Iron': '0mg', 'Thiamin': '0mg', 'Niacin': '1mg', 'Vitamin B6': '0mg', 'Magnesium': '13mg', 'Folate': '19mcg'}\n"
     ]
    }
   ],
   "source": [
    "for i in themeRecipes:\n",
    "    i.display()"
   ]
  },
  {
   "cell_type": "code",
   "execution_count": null,
   "metadata": {},
   "outputs": [],
   "source": []
  }
 ],
 "metadata": {
  "kernelspec": {
   "display_name": "Python [conda env:anaconda3]",
   "language": "python",
   "name": "conda-env-anaconda3-py"
  },
  "language_info": {
   "codemirror_mode": {
    "name": "ipython",
    "version": 3
   },
   "file_extension": ".py",
   "mimetype": "text/x-python",
   "name": "python",
   "nbconvert_exporter": "python",
   "pygments_lexer": "ipython3",
   "version": "3.6.5"
  }
 },
 "nbformat": 4,
 "nbformat_minor": 2
}
